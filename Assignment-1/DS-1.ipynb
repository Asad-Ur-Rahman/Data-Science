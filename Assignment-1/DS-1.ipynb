{
 "cells": [
  {
   "cell_type": "markdown",
   "id": "145b9fbd",
   "metadata": {},
   "source": [
    "# Q-1 Write a Python program to print the following string in a specific format."
   ]
  },
  {
   "cell_type": "code",
   "execution_count": 15,
   "id": "4ab84b34",
   "metadata": {},
   "outputs": [
    {
     "name": "stdout",
     "output_type": "stream",
     "text": [
      "Twinkle, twinkle, little star,\n",
      "          How I wonder what you are!\n",
      "                  Up above the world so high,\n",
      "                  Like a diamond in the sky.\n",
      "Twinkle, twinkle, little star,\n",
      "          How I wonder what you are\n"
     ]
    }
   ],
   "source": [
    "# Q1 Write a Python program to print the following string in a specific format (see the output).\n",
    "#Twinkle, twinkle, little star,\n",
    "#          How I wonder what you are!\n",
    "#                  Up above the world so high,\n",
    "#                  Like a diamond in the sky.\n",
    "#Twinkle, twinkle, little star,\n",
    "#          How I wonder what you are\n",
    "\n",
    "\n",
    "x = '''Twinkle, twinkle, little star,\n",
    "          How I wonder what you are!\n",
    "                  Up above the world so high,\n",
    "                  Like a diamond in the sky.\n",
    "Twinkle, twinkle, little star,\n",
    "          How I wonder what you are'''\n",
    "print(x)"
   ]
  },
  {
   "cell_type": "markdown",
   "id": "b5db4e0d",
   "metadata": {},
   "source": [
    "# Q-2 Write a Python program to get the Python version you are using"
   ]
  },
  {
   "cell_type": "code",
   "execution_count": 1,
   "id": "9a8f9cc5",
   "metadata": {},
   "outputs": [
    {
     "name": "stdout",
     "output_type": "stream",
     "text": [
      "3.9.7\n"
     ]
    }
   ],
   "source": [
    "# Q2 Write a Python program to get the Python version you are using\n",
    "\n",
    "from platform import python_version\n",
    "\n",
    "print(python_version())"
   ]
  },
  {
   "cell_type": "markdown",
   "id": "8df295be",
   "metadata": {},
   "source": [
    "# Q-3 Write a Python program to display the current date and time."
   ]
  },
  {
   "cell_type": "code",
   "execution_count": 3,
   "id": "c5587770",
   "metadata": {},
   "outputs": [
    {
     "name": "stdout",
     "output_type": "stream",
     "text": [
      "Time -> 21:52:14\n",
      "Date -> 28-12-2021 \n"
     ]
    }
   ],
   "source": [
    "# Q3 Write a Python program to display the current date and time.\n",
    "\n",
    "from datetime import datetime\n",
    "\n",
    "now = datetime.now()\n",
    " \n",
    "dt_string = now.strftime(\"%d-%m-%Y %H:%M:%S\")\n",
    "\n",
    "print(\"Time -> {1}\\nDate -> {0}\".format(dt_string[:11], dt_string[11:]))\t"
   ]
  },
  {
   "cell_type": "markdown",
   "id": "4cd65e86",
   "metadata": {},
   "source": [
    "# Q-4 Write a Python program which accepts the radius of a circle from the user and compute the area."
   ]
  },
  {
   "cell_type": "code",
   "execution_count": 47,
   "id": "631854df",
   "metadata": {},
   "outputs": [
    {
     "name": "stdout",
     "output_type": "stream",
     "text": [
      "Enter radius of circle: 9\n",
      "The Area of Circle is 254.46900494077323 unit²\n"
     ]
    }
   ],
   "source": [
    "# Q4 Write a Python program which accepts the radius of a circle from the user and compute the area. pi*r*r\n",
    "\n",
    "from math import pi\n",
    "\n",
    "x = input(\"Enter radius of circle: \")\n",
    "try:\n",
    "    r = float(x)\n",
    "    if r > 0:\n",
    "        print(\"The Area of Circle is {0} unit\\u00B2\".format(pi*r*r,))\n",
    "    else:\n",
    "        print(\"Please enter positive and non zero raduis value\")\n",
    "    \n",
    "except:\n",
    "    print(\"Enter number \")"
   ]
  },
  {
   "cell_type": "markdown",
   "id": "77aa2a9f",
   "metadata": {},
   "source": [
    "# Q-5    Write a Python program which accepts the user's first and last name and print them in reverse order with a space between them."
   ]
  },
  {
   "cell_type": "code",
   "execution_count": 52,
   "id": "29390945",
   "metadata": {},
   "outputs": [
    {
     "name": "stdout",
     "output_type": "stream",
     "text": [
      "Enter your first name: Asad\n",
      "Enter your last name: Rahman\n",
      "\n",
      "Rahman Asad\n"
     ]
    }
   ],
   "source": [
    "# Q5 Write a Python program which accepts the user's first and last name and print them in\n",
    "#reverse order with a space between them.\n",
    "\n",
    "first_name = input(\"Enter your first name: \")\n",
    "last_name = input(\"Enter your last name: \")\n",
    "\n",
    "name =  \"\\n{1} {0}\".format(first_name, last_name)\n",
    "print(name)"
   ]
  },
  {
   "cell_type": "markdown",
   "id": "5897cacc",
   "metadata": {},
   "source": [
    "# Q-6 Write a python program which takes two inputs from user and print them addition."
   ]
  },
  {
   "cell_type": "code",
   "execution_count": 2,
   "id": "827ace2d",
   "metadata": {},
   "outputs": [],
   "source": [
    "# function for checking user entered integer, float or string\n",
    "\n",
    "def check_user_input(x): \n",
    "    try:\n",
    "        # Convert it into integer\n",
    "        val = int(x)\n",
    "        #print(\"Input is an integer number. Number = \", val)\n",
    "        return (\"int\",val)\n",
    "    except ValueError:\n",
    "        try:\n",
    "            # Convert it into float\n",
    "            val = float(x)\n",
    "            #print(\"Input is a float  number. Number = \", val)\n",
    "            return (\"flt\", val)\n",
    "        except ValueError:\n",
    "            return (\"nan\", \"\\nPlease enter number only\")"
   ]
  },
  {
   "cell_type": "code",
   "execution_count": 3,
   "id": "a968272a",
   "metadata": {},
   "outputs": [
    {
     "name": "stdout",
     "output_type": "stream",
     "text": [
      "Enter first number: 9\n",
      "Enter second number: 0.5\n",
      "\n",
      "9 + 0.5 = 9.5\n"
     ]
    }
   ],
   "source": [
    "a = input(\"Enter first number: \") # user input\n",
    "b = input(\"Enter second number: \")\n",
    "\n",
    "ipt1 = check_user_input(a) # fuction evalute value and return corresponding tuple\n",
    "ipt2 = check_user_input(b)\n",
    "\n",
    "if ipt1[0] == 'nan' or ipt2[0] == 'nan':\n",
    "    print(\"\\nPlease enter number only\")\n",
    "\n",
    "else:\n",
    "    print(\"\\n{0} + {1} = {2}\".format(ipt1[1], ipt2[1], ipt1[1] + ipt2[1]))"
   ]
  },
  {
   "cell_type": "code",
   "execution_count": null,
   "id": "f04c87aa",
   "metadata": {},
   "outputs": [],
   "source": []
  }
 ],
 "metadata": {
  "kernelspec": {
   "display_name": "Python 3 (ipykernel)",
   "language": "python",
   "name": "python3"
  },
  "language_info": {
   "codemirror_mode": {
    "name": "ipython",
    "version": 3
   },
   "file_extension": ".py",
   "mimetype": "text/x-python",
   "name": "python",
   "nbconvert_exporter": "python",
   "pygments_lexer": "ipython3",
   "version": "3.9.7"
  }
 },
 "nbformat": 4,
 "nbformat_minor": 5
}
